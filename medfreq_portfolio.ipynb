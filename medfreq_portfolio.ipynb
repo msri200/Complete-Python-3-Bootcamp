{
  "nbformat": 4,
  "nbformat_minor": 0,
  "metadata": {
    "colab": {
      "provenance": [],
      "authorship_tag": "ABX9TyPDmgcBJSvhmW8FqrAP2ZOa",
      "include_colab_link": true
    },
    "kernelspec": {
      "name": "python3",
      "display_name": "Python 3"
    },
    "language_info": {
      "name": "python"
    }
  },
  "cells": [
    {
      "cell_type": "markdown",
      "metadata": {
        "id": "view-in-github",
        "colab_type": "text"
      },
      "source": [
        "<a href=\"https://colab.research.google.com/github/msri200/Complete-Python-3-Bootcamp/blob/master/medfreq_portfolio.ipynb\" target=\"_parent\"><img src=\"https://colab.research.google.com/assets/colab-badge.svg\" alt=\"Open In Colab\"/></a>"
      ]
    },
    {
      "cell_type": "code",
      "source": [
        "pip install quandl -q"
      ],
      "metadata": {
        "id": "WcLS3oZ4C51M"
      },
      "execution_count": 1,
      "outputs": []
    },
    {
      "cell_type": "code",
      "execution_count": 2,
      "metadata": {
        "id": "LSe_TNExCmez"
      },
      "outputs": [],
      "source": [
        "import pandas as pd\n",
        "import numpy as np\n",
        "import matplotlib.pyplot as plt\n",
        "import seaborn as sns\n",
        "import quandl\n",
        "%matplotlib inline"
      ]
    },
    {
      "cell_type": "code",
      "source": [
        "#import quandl\n",
        "\n",
        "#quandl.ApiConfig.api_key = \"HWQp1f4j8r5CNxWWv2M3\""
      ],
      "metadata": {
        "id": "hE_lRzBxKVRn"
      },
      "execution_count": 3,
      "outputs": []
    },
    {
      "cell_type": "code",
      "source": [
        "import yfinance as yf\n",
        "\n",
        "zn = yf.download(\"ZN=F\", start=\"1985-01-01\", end=\"2020-10-01\")\n",
        "zf = yf.download(\"ZF=F\", start=\"1985-01-01\", end=\"2020-10-01\")"
      ],
      "metadata": {
        "colab": {
          "base_uri": "https://localhost:8080/"
        },
        "id": "78AyzjBFKXGV",
        "outputId": "8e642948-489f-42b8-8acd-c2dc766d7b55"
      },
      "execution_count": 4,
      "outputs": [
        {
          "output_type": "stream",
          "name": "stderr",
          "text": [
            "/tmp/ipython-input-484264592.py:3: FutureWarning: YF.download() has changed argument auto_adjust default to True\n",
            "  zn = yf.download(\"ZN=F\", start=\"1985-01-01\", end=\"2020-10-01\")\n",
            "[*********************100%***********************]  1 of 1 completed\n",
            "/tmp/ipython-input-484264592.py:4: FutureWarning: YF.download() has changed argument auto_adjust default to True\n",
            "  zf = yf.download(\"ZF=F\", start=\"1985-01-01\", end=\"2020-10-01\")\n",
            "[*********************100%***********************]  1 of 1 completed\n"
          ]
        }
      ]
    },
    {
      "cell_type": "code",
      "source": [
        "print(zn.head())\n",
        "print(zf.head())"
      ],
      "metadata": {
        "colab": {
          "base_uri": "https://localhost:8080/"
        },
        "id": "WH506nlJKRn2",
        "outputId": "902d29f4-d171-4775-98d5-d40413d8d81a"
      },
      "execution_count": 5,
      "outputs": [
        {
          "output_type": "stream",
          "name": "stdout",
          "text": [
            "Price            Close        High         Low        Open Volume\n",
            "Ticker            ZN=F        ZN=F        ZN=F        ZN=F   ZN=F\n",
            "Date                                                             \n",
            "2000-09-21   99.953133   99.953133   99.625000   99.656250  41462\n",
            "2000-09-22   99.828133   99.875000   99.828133   99.859383  35044\n",
            "2000-09-25   99.937500   99.968750   99.937500   99.937500  35198\n",
            "2000-09-26  100.187500  100.234398  100.140602  100.171898  52999\n",
            "2000-09-27  100.125000  100.140602  100.093803  100.109398  39859\n",
            "Price            Close        High         Low        Open Volume\n",
            "Ticker            ZF=F        ZF=F        ZF=F        ZF=F   ZF=F\n",
            "Date                                                             \n",
            "2000-09-21  100.421898  100.468803  100.171898  100.187500  10742\n",
            "2000-09-22  100.281303  100.328102  100.281303  100.296898   6092\n",
            "2000-09-25  100.296898  100.328102  100.296898  100.296898   6359\n",
            "2000-09-26  100.484398  100.500000  100.421898  100.437500   8689\n",
            "2000-09-27  100.468803  100.484398  100.453102  100.468803  12359\n"
          ]
        }
      ]
    },
    {
      "cell_type": "code",
      "source": [
        "# Flatten and lower-case to basically turn this from multi-dimensional to 1D array\n",
        "zf.columns = [c[0].lower() for c in zf.columns]\n",
        "zn.columns = [c[0].lower() for c in zn.columns]"
      ],
      "metadata": {
        "id": "PeIkYzuufzNb"
      },
      "execution_count": 6,
      "outputs": []
    },
    {
      "cell_type": "code",
      "source": [
        "zf.info() #quick summary of non-null values\n",
        "zf.isna().sum() #Nan count per column\n",
        "zn.info()\n",
        "zn.isna().sum()"
      ],
      "metadata": {
        "colab": {
          "base_uri": "https://localhost:8080/",
          "height": 657
        },
        "id": "snWvXSykfBh7",
        "outputId": "8c8e3121-5690-4596-a313-6a902fd19d4a"
      },
      "execution_count": 7,
      "outputs": [
        {
          "output_type": "stream",
          "name": "stdout",
          "text": [
            "<class 'pandas.core.frame.DataFrame'>\n",
            "DatetimeIndex: 5038 entries, 2000-09-21 to 2020-09-30\n",
            "Data columns (total 5 columns):\n",
            " #   Column  Non-Null Count  Dtype  \n",
            "---  ------  --------------  -----  \n",
            " 0   close   5038 non-null   float64\n",
            " 1   high    5038 non-null   float64\n",
            " 2   low     5038 non-null   float64\n",
            " 3   open    5038 non-null   float64\n",
            " 4   volume  5038 non-null   int64  \n",
            "dtypes: float64(4), int64(1)\n",
            "memory usage: 236.2 KB\n",
            "<class 'pandas.core.frame.DataFrame'>\n",
            "DatetimeIndex: 5026 entries, 2000-09-21 to 2020-09-30\n",
            "Data columns (total 5 columns):\n",
            " #   Column  Non-Null Count  Dtype  \n",
            "---  ------  --------------  -----  \n",
            " 0   close   5026 non-null   float64\n",
            " 1   high    5026 non-null   float64\n",
            " 2   low     5026 non-null   float64\n",
            " 3   open    5026 non-null   float64\n",
            " 4   volume  5026 non-null   int64  \n",
            "dtypes: float64(4), int64(1)\n",
            "memory usage: 235.6 KB\n"
          ]
        },
        {
          "output_type": "execute_result",
          "data": {
            "text/plain": [
              "close     0\n",
              "high      0\n",
              "low       0\n",
              "open      0\n",
              "volume    0\n",
              "dtype: int64"
            ],
            "text/html": [
              "<div>\n",
              "<style scoped>\n",
              "    .dataframe tbody tr th:only-of-type {\n",
              "        vertical-align: middle;\n",
              "    }\n",
              "\n",
              "    .dataframe tbody tr th {\n",
              "        vertical-align: top;\n",
              "    }\n",
              "\n",
              "    .dataframe thead th {\n",
              "        text-align: right;\n",
              "    }\n",
              "</style>\n",
              "<table border=\"1\" class=\"dataframe\">\n",
              "  <thead>\n",
              "    <tr style=\"text-align: right;\">\n",
              "      <th></th>\n",
              "      <th>0</th>\n",
              "    </tr>\n",
              "  </thead>\n",
              "  <tbody>\n",
              "    <tr>\n",
              "      <th>close</th>\n",
              "      <td>0</td>\n",
              "    </tr>\n",
              "    <tr>\n",
              "      <th>high</th>\n",
              "      <td>0</td>\n",
              "    </tr>\n",
              "    <tr>\n",
              "      <th>low</th>\n",
              "      <td>0</td>\n",
              "    </tr>\n",
              "    <tr>\n",
              "      <th>open</th>\n",
              "      <td>0</td>\n",
              "    </tr>\n",
              "    <tr>\n",
              "      <th>volume</th>\n",
              "      <td>0</td>\n",
              "    </tr>\n",
              "  </tbody>\n",
              "</table>\n",
              "</div><br><label><b>dtype:</b> int64</label>"
            ]
          },
          "metadata": {},
          "execution_count": 7
        }
      ]
    },
    {
      "cell_type": "code",
      "source": [
        "zf = zf.rename(columns={\n",
        "    'o':'open',\n",
        "    'c':'close',\n",
        "    'h':'high',\n",
        "    'l':'low',\n",
        "    'v':'volume',\n",
        "})[['open','close','high','low','volume']]\n",
        "\n",
        "zn = zn.rename(columns={\n",
        "    'o':'open',\n",
        "    'c':'close',\n",
        "    'h':'high',\n",
        "    'l':'low',\n",
        "    'v':'volume',\n",
        "})[['open','close','high','low','volume']]"
      ],
      "metadata": {
        "id": "5PpMvJXWNbmk"
      },
      "execution_count": 8,
      "outputs": []
    },
    {
      "cell_type": "code",
      "source": [
        "zfcopy = zf.copy()\n",
        "zncopy = zn.copy()"
      ],
      "metadata": {
        "id": "pG8cyAi9iGlK"
      },
      "execution_count": 9,
      "outputs": []
    },
    {
      "cell_type": "code",
      "source": [
        "zfcopy = zfcopy.assign(midprice = zfcopy['open'] + zfcopy['close'])/2\n",
        "zncopy = zncopy.assign(midprice = zncopy['open'] + zncopy['close'])/2"
      ],
      "metadata": {
        "id": "-52mC-sdjmwK"
      },
      "execution_count": 10,
      "outputs": []
    },
    {
      "cell_type": "code",
      "source": [
        "print(zncopy.head())\n",
        "print(zfcopy.head())"
      ],
      "metadata": {
        "colab": {
          "base_uri": "https://localhost:8080/"
        },
        "id": "2GzQXOCjkQyO",
        "outputId": "f30ae53c-f1e9-4d27-d18d-05365e5b76eb"
      },
      "execution_count": 11,
      "outputs": [
        {
          "output_type": "stream",
          "name": "stdout",
          "text": [
            "                 open      close       high        low   volume    midprice\n",
            "Date                                                                       \n",
            "2000-09-21  49.828125  49.976566  49.976566  49.812500  20731.0   99.804691\n",
            "2000-09-22  49.929691  49.914066  49.937500  49.914066  17522.0   99.843758\n",
            "2000-09-25  49.968750  49.968750  49.984375  49.968750  17599.0   99.937500\n",
            "2000-09-26  50.085949  50.093750  50.117199  50.070301  26499.5  100.179699\n",
            "2000-09-27  50.054699  50.062500  50.070301  50.046902  19929.5  100.117199\n",
            "                 open      close       high        low  volume    midprice\n",
            "Date                                                                      \n",
            "2000-09-21  50.093750  50.210949  50.234402  50.085949  5371.0  100.304699\n",
            "2000-09-22  50.148449  50.140652  50.164051  50.140652  3046.0  100.289101\n",
            "2000-09-25  50.148449  50.148449  50.164051  50.148449  3179.5  100.296898\n",
            "2000-09-26  50.218750  50.242199  50.250000  50.210949  4344.5  100.460949\n",
            "2000-09-27  50.234402  50.234402  50.242199  50.226551  6179.5  100.468803\n"
          ]
        }
      ]
    },
    {
      "cell_type": "code",
      "source": [
        "pip install rateslib"
      ],
      "metadata": {
        "colab": {
          "base_uri": "https://localhost:8080/"
        },
        "id": "-pGiJJJYkymI",
        "outputId": "db1f0555-fc9c-4503-a52f-c7060e950721"
      },
      "execution_count": null,
      "outputs": [
        {
          "output_type": "stream",
          "name": "stdout",
          "text": [
            "Collecting rateslib\n",
            "  Downloading rateslib-2.1.1.tar.gz (738 kB)\n",
            "\u001b[2K     \u001b[90m━━━━━━━━━━━━━━━━━━━━━━━━━━━━━━━━━━━━━━━\u001b[0m \u001b[32m739.0/739.0 kB\u001b[0m \u001b[31m6.0 MB/s\u001b[0m eta \u001b[36m0:00:00\u001b[0m\n",
            "\u001b[?25h  Installing build dependencies ... \u001b[?25l\u001b[?25hdone\n",
            "  Getting requirements to build wheel ... \u001b[?25l\u001b[?25hdone\n",
            "  Installing backend dependencies ... \u001b[?25l\u001b[?25hdone\n",
            "  Preparing metadata (pyproject.toml) ... \u001b[?25l\u001b[?25hdone\n",
            "Requirement already satisfied: numpy<3.0,>=1.21.5 in /usr/local/lib/python3.12/dist-packages (from rateslib) (2.0.2)\n",
            "Requirement already satisfied: matplotlib<4.0,>=3.5.1 in /usr/local/lib/python3.12/dist-packages (from rateslib) (3.10.0)\n",
            "Requirement already satisfied: pandas<3.0,>=1.4.1 in /usr/local/lib/python3.12/dist-packages (from rateslib) (2.2.2)\n",
            "Requirement already satisfied: contourpy>=1.0.1 in /usr/local/lib/python3.12/dist-packages (from matplotlib<4.0,>=3.5.1->rateslib) (1.3.3)\n",
            "Requirement already satisfied: cycler>=0.10 in /usr/local/lib/python3.12/dist-packages (from matplotlib<4.0,>=3.5.1->rateslib) (0.12.1)\n",
            "Requirement already satisfied: fonttools>=4.22.0 in /usr/local/lib/python3.12/dist-packages (from matplotlib<4.0,>=3.5.1->rateslib) (4.60.0)\n",
            "Requirement already satisfied: kiwisolver>=1.3.1 in /usr/local/lib/python3.12/dist-packages (from matplotlib<4.0,>=3.5.1->rateslib) (1.4.9)\n",
            "Requirement already satisfied: packaging>=20.0 in /usr/local/lib/python3.12/dist-packages (from matplotlib<4.0,>=3.5.1->rateslib) (25.0)\n",
            "Requirement already satisfied: pillow>=8 in /usr/local/lib/python3.12/dist-packages (from matplotlib<4.0,>=3.5.1->rateslib) (11.3.0)\n",
            "Requirement already satisfied: pyparsing>=2.3.1 in /usr/local/lib/python3.12/dist-packages (from matplotlib<4.0,>=3.5.1->rateslib) (3.2.4)\n",
            "Requirement already satisfied: python-dateutil>=2.7 in /usr/local/lib/python3.12/dist-packages (from matplotlib<4.0,>=3.5.1->rateslib) (2.9.0.post0)\n",
            "Requirement already satisfied: pytz>=2020.1 in /usr/local/lib/python3.12/dist-packages (from pandas<3.0,>=1.4.1->rateslib) (2025.2)\n",
            "Requirement already satisfied: tzdata>=2022.7 in /usr/local/lib/python3.12/dist-packages (from pandas<3.0,>=1.4.1->rateslib) (2025.2)\n",
            "Requirement already satisfied: six>=1.5 in /usr/local/lib/python3.12/dist-packages (from python-dateutil>=2.7->matplotlib<4.0,>=3.5.1->rateslib) (1.17.0)\n",
            "Building wheels for collected packages: rateslib\n"
          ]
        }
      ]
    },
    {
      "cell_type": "code",
      "source": [
        "from sklearn.ensemble import RandomForestClassifier\n",
        "from sklearn.model_selection import train_test_split\n",
        "from sklearn.metrics import accuracy_score, precision_score, recall_score, f1_score\n",
        "from sklearn.metrics import confusion_matrix\n",
        "from sklearn.impute import SimpleImputer"
      ],
      "metadata": {
        "id": "4priyok8vXLS"
      },
      "execution_count": null,
      "outputs": []
    },
    {
      "cell_type": "code",
      "source": [
        "#we split the data firstly into train and test where test contains validation as well\n",
        "#then we split test and validation\n",
        "zf_train, zf_temp = train_test_split(zfcopy, test_size=0.2,train_size= 0.8, shuffle=False)\n",
        "zn_train, zn_temp = train_test_split(zncopy, test_size=0.2, train_size= 0.8, shuffle=False)\n",
        "zf_validation, zf_test = train_test_split(zf_temp, test_size=0.5, shuffle=False)\n",
        "zn_validation, zn_test = train_test_split(zn_temp,test_size = 0.5,shuffle= False )\n",
        "#we DO NOT do a k-fold validation as we are only interested in how a\n",
        "#historical model performs on new data"
      ],
      "metadata": {
        "id": "ENOBSh79A8zq"
      },
      "execution_count": null,
      "outputs": []
    },
    {
      "cell_type": "code",
      "source": [
        "#calculate our raw features\n",
        "zncopy['Weekly_SMA'] = zncopy['midprice'].rolling(window=7).mean()\n",
        "zncopy['Biweekly_SMA'] = zncopy['midprice'].rolling(window=14).mean()\n",
        "zfcopy['Weekly_SMA'] = zfcopy['midprice'].rolling(window=7).mean()\n",
        "zfcopy['Biweekly_SMA'] = zfcopy['midprice'].rolling(window=14).mean()\n",
        "zfcopy['Daily_Trend_Weekly_MA']= zfcopy['midprice'] - zfcopy['Weekly_SMA']\n",
        "zncopy['Daily_Trend_Weekly_MA']= zncopy['midprice'] - zncopy['Weekly_SMA']\n",
        "zfcopy['Daily_Trend_Biweekly_MA']= zfcopy['midprice'] - zfcopy['Biweekly_SMA']\n",
        "zncopy['Daily_Trend_Biweekly_MA']= zncopy['midprice'] - zncopy['Biweekly_SMA']\n",
        "\n",
        "print(zncopy.head(20))\n",
        "print(zfcopy.head(20))"
      ],
      "metadata": {
        "id": "fU4OhnmNDwDt"
      },
      "execution_count": null,
      "outputs": []
    },
    {
      "cell_type": "code",
      "source": [
        "# remove rows with ANY NaN in either dataframe\n",
        "zncopy = zncopy.dropna().copy()\n",
        "zfcopy = zfcopy.dropna().copy()\n",
        "print(zncopy.head(20))\n",
        "print(zfcopy.head(20))"
      ],
      "metadata": {
        "id": "bMQ25BOuFMnR"
      },
      "execution_count": null,
      "outputs": []
    },
    {
      "cell_type": "code",
      "source": [
        "#A. PORTFOLIO CONSTRUCTION\n",
        "from sklearn.preprocessing import MinMaxScaler      # or StandardScaler\n",
        "from sklearn.decomposition import PCA\n",
        "\n",
        "#Build aligned 2-col DataFrames (dates must match)\n",
        "train_df = pd.concat([zf_train['midprice'], zn_train['midprice']], axis=1, join='inner')\n",
        "train_df.columns = ['zf_mid', 'zn_mid']\n",
        "\n",
        "val_df   = pd.concat([zf_validation['midprice'], zn_validation['midprice']], axis=1, join='inner')\n",
        "val_df.columns = ['zf_mid', 'zn_mid']\n",
        "\n",
        "test_df  = pd.concat([zf_test['midprice'], zn_test['midprice']], axis=1, join='inner')\n",
        "test_df.columns = ['zf_mid', 'zn_mid']\n",
        "\n",
        "#Fit scaler on TRAIN only (preserves relative scale)\n",
        "scaler = MinMaxScaler()\n",
        "train_scaled = scaler.fit_transform(train_df)   # shape (n_train, 2)\n",
        "val_scaled   = scaler.transform(val_df)        # do NOT fit again\n",
        "test_scaled  = scaler.transform(test_df)\n",
        "\n",
        "# Debug check\n",
        "print(\"train_scaled.shape:\", train_scaled.shape)\n",
        "print(\"val_scaled.shape:\", val_scaled.shape)\n",
        "\n",
        "# Fit PCA on TRAIN only; use 2 components so we have PC2 available\n",
        "pca = PCA(n_components=2)\n",
        "pca.fit(train_scaled)\n",
        "\n",
        "# Debug check\n",
        "print(\"pca.components_.shape:\", pca.components_.shape)  # should be (2, 2)\n",
        "\n",
        "#Get PC scores (projections). Use transform() — clean and correct.\n",
        "train_scores = pca.transform(train_scaled)   # shape (n_train, 2)\n",
        "val_scores   = pca.transform(val_scaled)\n",
        "test_scores  = pca.transform(test_scaled)\n",
        "\n",
        "# PC2 is the second column (index 1)\n",
        "train_portfolio = pd.Series(train_scores[:, 1], index=train_df.index, name='train_portfolio_price')\n",
        "val_portfolio   = pd.Series(val_scores[:, 1],   index=val_df.index, name='val_portfolio_price')\n",
        "test_portfolio  = pd.Series(test_scores[:, 1],  index=test_df.index, name='test_portfolio_price')\n",
        "\n",
        "# Quick sanity prints\n",
        "print(train_portfolio.head())\n",
        "print(val_portfolio.head())\n",
        "print(test_portfolio.head())\n"
      ],
      "metadata": {
        "id": "Ju81NvPIJTgf"
      },
      "execution_count": null,
      "outputs": []
    },
    {
      "cell_type": "code",
      "source": [
        "    pip install scikit-learn"
      ],
      "metadata": {
        "id": "w3BgGAaNJwqI"
      },
      "execution_count": null,
      "outputs": []
    },
    {
      "cell_type": "code",
      "source": [
        "    pip install tensorflow"
      ],
      "metadata": {
        "id": "4uTUazhsne8Y"
      },
      "execution_count": null,
      "outputs": []
    },
    {
      "cell_type": "code",
      "source": [
        "from sklearn.neural_network import BernoulliRBM\n",
        "from sklearn.pipeline import Pipeline\n",
        "from sklearn.linear_model import LogisticRegression\n",
        "import torch\n",
        "import torch.nn as nn\n",
        "import torch.nn.functional as F\n",
        "import torch.optim as optim\n",
        "import torch.utils.data\n",
        "from torch.autograd import Variable"
      ],
      "metadata": {
        "id": "xttHMzeIoH4O"
      },
      "execution_count": null,
      "outputs": []
    },
    {
      "cell_type": "code",
      "source": [
        "#initialize the rbm model\n",
        "#rbm =BernoulliRBM(n_components= 256, learning_rate= 0.001, n_iter= 100, verbose= 1, random_state= 0)"
      ],
      "metadata": {
        "id": "Uf3JniAHoe-x"
      },
      "execution_count": null,
      "outputs": []
    },
    {
      "cell_type": "code",
      "source": [
        "training_portfolio_set   = torch.tensor(train_portfolio.values, dtype=torch.float32).unsqueeze(1)\n",
        "validation_portfolio_set = torch.tensor(val_portfolio.values,  dtype=torch.float32).unsqueeze(1)\n",
        "test_portfolio_set       = torch.tensor(test_portfolio.values,  dtype=torch.float32).unsqueeze(1)"
      ],
      "metadata": {
        "id": "lxpXdnObld60"
      },
      "execution_count": null,
      "outputs": []
    },
    {
      "cell_type": "code",
      "source": [
        "print(training_portfolio_set.shape)"
      ],
      "metadata": {
        "id": "4FFtRoXkv8FN"
      },
      "execution_count": null,
      "outputs": []
    },
    {
      "cell_type": "code",
      "source": [
        "import torch\n",
        "\n",
        "class RBM:\n",
        "    def __init__(self, n_visible, n_hidden):\n",
        "        # W is [n_visible, n_hidden] so v @ W -> [batch, n_hidden]\n",
        "        self.W = torch.randn(n_visible, n_hidden) * 0.1\n",
        "        self.v_bias = torch.zeros(1, n_visible)\n",
        "        self.h_bias = torch.zeros(1, n_hidden)\n",
        "\n",
        "    def sample_h_givenv(self, v):\n",
        "        h_prob = torch.sigmoid(v @ self.W + self.h_bias)      # no transpose\n",
        "        h_sample = torch.bernoulli(h_prob)\n",
        "        return h_prob, h_sample\n",
        "\n",
        "    def sample_v_givenh(self, h):\n",
        "        v_prob = torch.sigmoid(h @ self.W.T + self.v_bias)    # transpose here only\n",
        "        v_sample = torch.bernoulli(v_prob)\n",
        "        return v_prob, v_sample\n",
        "\n",
        "    def train(self, v0, vk, ph0, phk, lr=0.01):\n",
        "        batch = v0.size(0)\n",
        "        # v0.T @ ph0 -> [n_visible, n_hidden] matches self.W\n",
        "        self.W += lr * ((v0.T @ ph0 - vk.T @ phk) / batch)\n",
        "        self.h_bias += lr * (ph0 - phk).sum(0, keepdim=True) / batch\n",
        "        self.v_bias += lr * (v0 - vk).sum(0, keepdim=True) / batch\n",
        "\n",
        "\n",
        "# - usage -\n",
        "v = training_portfolio_set\n",
        "if v.dim() == 1:            # ensure [N, D]\n",
        "    v = v.unsqueeze(1)\n",
        "\n",
        "nv = v.shape[1]\n",
        "nh = 15\n",
        "rbm1 = RBM(nv, nh)\n",
        "\n",
        "ph, h_sample = rbm1.sample_h_givenv(v)\n",
        "nv2 = ph.shape[1]\n",
        "nh2 = 20\n",
        "rbm2 = RBM(nv2, nh2)\n",
        "\n",
        "# training the rbms\n",
        "batch_size = 100\n",
        "epochs = 100\n",
        "rbmtrain1 = RBM(n_visible=v.shape[1], n_hidden=15)\n",
        "\n",
        "for epoch in range(epochs):\n",
        "    for i in range(0, v.size(0), batch_size):\n",
        "        v0 = v[i:i+batch_size]\n",
        "        h0_prob = torch.sigmoid(v0 @ rbmtrain1.W + rbmtrain1.h_bias)\n",
        "\n",
        "        v1_prob = torch.sigmoid(h0_prob @ rbmtrain1.W.T + rbmtrain1.v_bias)\n",
        "        v1 = torch.bernoulli(v1_prob)\n",
        "\n",
        "        h1_prob = torch.sigmoid(v1 @ rbmtrain1.W + rbmtrain1.h_bias)\n",
        "\n",
        "        rbmtrain1.train(v0, v1, h0_prob, h1_prob)\n"
      ],
      "metadata": {
        "id": "p_mlkbq7lxm4"
      },
      "execution_count": null,
      "outputs": []
    },
    {
      "cell_type": "code",
      "source": [],
      "metadata": {
        "id": "LGm9DLLW2tQk"
      },
      "execution_count": null,
      "outputs": []
    }
  ]
}